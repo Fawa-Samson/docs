{
 "cells": [
  {
   "cell_type": "code",
   "execution_count": 2,
   "id": "6905acde",
   "metadata": {},
   "outputs": [
    {
     "name": "stdout",
     "output_type": "stream",
     "text": [
      "[121, 454, 1221, 1001]\n"
     ]
    }
   ],
   "source": [
    "# Réversibilité de nombres\n",
    "# La fonction suivante prend une liste de nombres en entrée et retourne\n",
    "# une liste de tous ceux qui sont les mêmes quand on les lit de droite \n",
    "# à gauche (palindromes numériques). \n",
    "\n",
    "def palindromes_numerique(liste):\n",
    "    \n",
    "    # Cette fonction prend en entrée un nombre et vérifie si ce dernier est palindrome. \n",
    "    \n",
    "    def est_palindrome(nombre):\n",
    "        \n",
    "        # Conversion du nombre en chaîne de caractères\n",
    "        \n",
    "        str_nombre = str(nombre)\n",
    "        \n",
    "        # Comparaison entre la chaîne et sa forme inversée\n",
    "        \n",
    "        return str_nombre == str_nombre[::-1]\n",
    "    \n",
    "    #Filtrage et affichage des nombres qui sont des palindromes.\n",
    "    \n",
    "    return [nombre for nombre in liste if est_palindrome(nombre)]\n",
    "\n",
    "# Exemple d'utilisation\n",
    "\n",
    "liste = [121, 123, 454, 789, 1221, 1001]\n",
    "\n",
    "nbr_palindromes = palindromes_numerique(liste)\n",
    "\n",
    "print(nbr_palindromes)"
   ]
  }
 ],
 "metadata": {
  "celltoolbar": "Format de la Cellule Texte Brut",
  "kernelspec": {
   "display_name": "Python 3 (ipykernel)",
   "language": "python",
   "name": "python3"
  },
  "language_info": {
   "codemirror_mode": {
    "name": "ipython",
    "version": 3
   },
   "file_extension": ".py",
   "mimetype": "text/x-python",
   "name": "python",
   "nbconvert_exporter": "python",
   "pygments_lexer": "ipython3",
   "version": "3.11.5"
  }
 },
 "nbformat": 4,
 "nbformat_minor": 5
}
